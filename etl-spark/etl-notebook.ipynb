{
 "cells": [
  {
   "cell_type": "code",
   "execution_count": 1,
   "id": "0eec461d",
   "metadata": {
    "pycharm": {
     "name": "#%%\n"
    }
   },
   "outputs": [],
   "source": [
    "import argparse\n",
    "from pyspark.sql import SparkSession\n",
    "from pyspark.sql import functions as functions\n",
    "from pyspark.sql.functions import regexp_replace, when, year, month, to_date, col\n",
    "from pyspark.sql.types import StringType, IntegerType, FloatType\n",
    "import re"
   ]
  },
  {
   "cell_type": "code",
   "execution_count": 2,
   "id": "38c396b0",
   "metadata": {
    "pycharm": {
     "name": "#%%\n"
    }
   },
   "outputs": [],
   "source": [
    "def start_or_create_spark():\n",
    "    from pyspark.sql import SparkSession\n",
    "    spark = (SparkSession\n",
    "             .builder\n",
    "             .appName(\"Proc de Dados de Gasolina no Brasil\")\n",
    "             .config('spark.jars', 'gs://spark-lib/bigquery/spark-bigquery-with-dependencies_2.12-0.23.2.jar')\n",
    "             .getOrCreate()\n",
    "             )\n",
    "    return spark"
   ]
  },
  {
   "cell_type": "code",
   "execution_count": 3,
   "id": "f8e1b959",
   "metadata": {
    "pycharm": {
     "name": "#%%\n"
    }
   },
   "outputs": [],
   "source": [
    "def rename_columns(dataframe):\n",
    "    \"\"\"\n",
    "    Função que recebe o Dataframe Spark e realize o rename de colunas acordo\n",
    "    com a documentação do BigQuery: https://cloud.google.com/bigquery/docs/schemas#:~:text=description%20and%20mode.-,Column%20names,name%20length%20is%20300%20characters.\n",
    "    e retorne o Dataframe com as colunas renomeadas.\n",
    "    Tip: withColumnRenamed\n",
    "    \"\"\"\n",
    "    dataframe = dataframe.select([functions.col(x).alias(x.lower()) for x in dataframe.columns])\n",
    "    dataframe = dataframe.select([functions.col(col).alias(re.sub(\" -\", \"\", col)) for col in dataframe.columns])\n",
    "    dataframe = dataframe.select([functions.col(col).alias(re.sub(\" \", \"_\", col)) for col in dataframe.columns])\n",
    "\n",
    "    return dataframe\n"
   ]
  },
  {
   "cell_type": "code",
   "execution_count": 4,
   "id": "5af4ba08",
   "metadata": {
    "pycharm": {
     "name": "#%%\n"
    }
   },
   "outputs": [],
   "source": [
    "def add_year(dataframe, coluna):\n",
    "    \"\"\"\n",
    "    Parametros: dataframe, coluna\n",
    "\n",
    "    Função que recebe um Dataframe Spark e o nome da coluna que será baseada para criar\n",
    "    uma coluna `year` no Dataframe com os dados lidos do GCS.\n",
    "    O resultado da coluna deverá ser o Ano.\n",
    "    E retorne o dataframe com os dados e a nova coluna criada.\n",
    "    \"\"\"\n",
    "    dataframe = dataframe.withColumn(\"data\", to_date(col(coluna), \"dd/MM/yyyy\"))\n",
    "    dataframe = dataframe.withColumn(\"ano\", year(col(\"data\")))\n",
    "\n",
    "    return dataframe"
   ]
  },
  {
   "cell_type": "code",
   "execution_count": 5,
   "id": "f16ba1b2",
   "metadata": {
    "pycharm": {
     "name": "#%%\n"
    }
   },
   "outputs": [],
   "source": [
    "def add_semestre(dataframe, coluna):\n",
    "    \"\"\"\n",
    "    Parametros: dataframe, coluna\n",
    "\n",
    "    Função que recebe um Dataframe Spark e o nome da coluna que será baseada para criar\n",
    "    uma coluna `semestre` no Dataframe com os dados lidos do GCS. O resultado deverá ser 1 ou 2.\n",
    "    E retorne o dataframe com os dados e a nova coluna criada.\n",
    "    \"\"\"\n",
    "\n",
    "    dataframe = dataframe.withColumn('semestre', month(coluna))\n",
    "    dataframe = dataframe.withColumn('semestre', when(col(\"semestre\") < 7, 1)\n",
    "                                     .when(col(\"semestre\") >= 7, 2))\n",
    "\n",
    "    return dataframe"
   ]
  },
  {
   "cell_type": "code",
   "execution_count": 6,
   "id": "d01f6efd",
   "metadata": {
    "pycharm": {
     "name": "#%%\n"
    }
   },
   "outputs": [],
   "source": [
    "def add_filename_input(dataframe):\n",
    "    \"\"\"\n",
    "    Parametros: dataframe\n",
    "\n",
    "    Função que recebe um Dataframe Spark que crie uma coluna `input_file_name` que será baseada no nome do arquivo lido.\n",
    "    E retorne o dataframe com os dados e a nova coluna criada.\n",
    "    \"\"\"\n",
    "\n",
    "    dataframe = dataframe.withColumn(\"input_file_name\", functions.input_file_name())\n",
    "\n",
    "    return dataframe"
   ]
  },
  {
   "cell_type": "code",
   "execution_count": 7,
   "id": "78942482",
   "metadata": {
    "pycharm": {
     "name": "#%%\n"
    }
   },
   "outputs": [],
   "source": [
    "def put_file_gcs(dataframe, path_output, formato):\n",
    "    \"\"\"\n",
    "    :param path_output: path para save dos dados\n",
    "    :param dataframe: conjunto de dados a serem salvos\n",
    "    :param formato: tipo de arquivo a ser salvo\n",
    "    :return: None\n",
    "\n",
    "    Função que salve os dados no GCS, utilizando o metodo write do Dataframe Spark.\n",
    "    \"\"\"\n",
    "    dataframe.repartition(1).write.format(formato).mode(\"overwrite\").save(path_output)\n",
    "\n",
    "    return None"
   ]
  },
  {
   "cell_type": "code",
   "execution_count": 8,
   "id": "a4c54be4",
   "metadata": {
    "pycharm": {
     "name": "#%%\n"
    }
   },
   "outputs": [],
   "source": [
    "def write_bigquery(dataframe, bq_dataset, bq_table, gcs_tmp_bucket):\n",
    "    \"\"\"\n",
    "    Crie uma função que receba os parametros:\n",
    "    :param dataframe: conjunto de dados a serem salvos\n",
    "    :param tabela: Tabela do BigQuery que será salvo os dados. Ex: dataset.tabela_exemplo\n",
    "    :param temporaryGcsBucket: Bucket temporário para salvar area de staging do BigQuery.\n",
    "\n",
    "    E escreva dentro do BigQuery.\n",
    "    Utilize o material de referencia:\n",
    "    https://cloud.google.com/dataproc/docs/tutorials/bigquery-connector-spark-example#running_the_code\n",
    "    \"\"\"\n",
    "\n",
    "    # spark.conf.set('temporaryGcsBucket', gcs_tmp_bucket)\n",
    "    dataframe.write \\\n",
    "        .format(\"bigquery\") \\\n",
    "        .option(\"table\", \"{}.{}\".format(bq_dataset, bq_table)) \\\n",
    "        .option(\"temporaryGcsBucket\", gcs_tmp_bucket) \\\n",
    "        .mode('append') \\\n",
    "        .save()\n",
    "\n",
    "    return None\n"
   ]
  },
  {
   "cell_type": "code",
   "execution_count": 18,
   "id": "866de301",
   "metadata": {
    "pycharm": {
     "name": "#%%\n"
    }
   },
   "outputs": [],
   "source": [
    "def main(path_input, path_output, file_format, bq_dataset, bq_table, gcs_tmp_bucket):\n",
    "    try:\n",
    "        \"\"\"\n",
    "        Crie uma função main que receba como parametro:\n",
    "        path_input: Caminho dos dados no GCS gerados pela API coletora. Ex: gs://bucket_name/file_name\n",
    "        path_output: Caminho de onde será salvo os dados processados. Ex: gs://bucket_name_2/file_name\n",
    "        formato_file_save: Formato de arquivo a ser salvo no path_output. Ex: PARQUET\n",
    "        tabela_bq: Tabela do BigQuery que será salvo os dados. Ex: dataset.tabela_exemplo\n",
    "\n",
    "\n",
    "        1 - Faça a leitura dos dados de acordo com o path_input informado\n",
    "        2 - Realize o rename de colunas do arquivo, respeitando os padroes do BigQuery\n",
    "        3 - Adicione uma coluna de Ano, baseado na coluna `Data da Coleta`\n",
    "        4 - Adicione uma coluna de Semestre, baseado na coluna de `Data da Coleta`\n",
    "        5 - Adicione uma coluna Filename. Tip: pyspark.sql.functions.input_file_name\n",
    "        6 - Faça o parse dos dados lidos de acordo com a tabela no BigQuery\n",
    "        7 - Escreva os dados no Bucket GCS, no caminho informado `path_output` \n",
    "            no formato especificado no atributo `formato_file_save`.\n",
    "        8 - Escreva os dados no BigQuery de acordo com a tabela especificada no atributo `tabela_bq`\n",
    "        \"\"\"\n",
    "        spark = start_or_create_spark()\n",
    "        df = spark.read.format('csv').option(\"header\", \"true\").option('delimiter', ';').load(path_input)\n",
    "        df = rename_columns(df)\n",
    "        df = add_year(df, \"data_da_coleta\")\n",
    "        df = add_semestre(df, \"data\")\n",
    "        df = add_filename_input(df)\n",
    "        df = df.withColumn(\"numero_rua\", col(\"numero_rua\").cast(IntegerType())) \\\n",
    "            .withColumn(\"ano\", col(\"ano\").cast(StringType())) \\\n",
    "            .withColumn(\"semestre\", col(\"semestre\").cast(StringType())) \\\n",
    "            .withColumn('valor_de_venda', regexp_replace('valor_de_venda', ',', '.').cast(FloatType())) \\\n",
    "            .withColumn('valor_de_compra', regexp_replace('valor_de_compra', ',', '.').cast(FloatType()))\n",
    "        put_file_gcs(df, path_output, file_format)\n",
    "        write_bigquery(df, bq_dataset, bq_table, gcs_tmp_bucket)\n",
    "\n",
    "        return df\n",
    "    except Exception as ex:\n",
    "        print(ex)"
   ]
  },
  {
   "cell_type": "code",
   "execution_count": 19,
   "id": "68613515",
   "metadata": {
    "pycharm": {
     "name": "#%%\n"
    }
   },
   "outputs": [
    {
     "name": "stderr",
     "output_type": "stream",
     "text": [
      "                                                                                \r"
     ]
    }
   ],
   "source": [
    "if __name__ == '__main__':\n",
    "    data = main(path_input=f\"gs://gcp-datapipeline-389020-raw/combustiveis/2019/02/ca-2019-02.csv\",\n",
    "                path_output=f\"gs://gcp-datapipeline-389020-curated/combustiveis/2019/02\",\n",
    "                file_format=\"parquet\",\n",
    "                bq_dataset=\"gasolina_brasil\",\n",
    "                bq_table=\"tb_historico_combustivel_brasil\",\n",
    "                gcs_tmp_bucket=\"gcp-datapipeline-389020-pyspark-tmp\")"
   ]
  },
  {
   "cell_type": "code",
   "execution_count": 12,
   "id": "5ff95ba2",
   "metadata": {
    "pycharm": {
     "name": "#%%\n"
    }
   },
   "outputs": [
    {
     "data": {
      "text/html": [
       "<div>\n",
       "<style scoped>\n",
       "    .dataframe tbody tr th:only-of-type {\n",
       "        vertical-align: middle;\n",
       "    }\n",
       "\n",
       "    .dataframe tbody tr th {\n",
       "        vertical-align: top;\n",
       "    }\n",
       "\n",
       "    .dataframe thead th {\n",
       "        text-align: right;\n",
       "    }\n",
       "</style>\n",
       "<table border=\"1\" class=\"dataframe\">\n",
       "  <thead>\n",
       "    <tr style=\"text-align: right;\">\n",
       "      <th></th>\n",
       "      <th>regiao_sigla</th>\n",
       "      <th>estado_sigla</th>\n",
       "      <th>municipio</th>\n",
       "      <th>revenda</th>\n",
       "      <th>cnpj_da_revenda</th>\n",
       "      <th>nome_da_rua</th>\n",
       "      <th>numero_rua</th>\n",
       "      <th>complemento</th>\n",
       "      <th>bairro</th>\n",
       "      <th>cep</th>\n",
       "      <th>produto</th>\n",
       "      <th>data_da_coleta</th>\n",
       "      <th>valor_de_venda</th>\n",
       "      <th>valor_de_compra</th>\n",
       "      <th>unidade_de_medida</th>\n",
       "      <th>bandeira</th>\n",
       "      <th>data</th>\n",
       "      <th>ano</th>\n",
       "      <th>semestre</th>\n",
       "      <th>input_file_name</th>\n",
       "    </tr>\n",
       "  </thead>\n",
       "  <tbody>\n",
       "    <tr>\n",
       "      <th>0</th>\n",
       "      <td>S</td>\n",
       "      <td>RS</td>\n",
       "      <td>CANOAS</td>\n",
       "      <td>METROPOLITANO COMERCIO DE COMBUSTIVEIS LTDA</td>\n",
       "      <td>88.587.589/0001-17</td>\n",
       "      <td>AVENIDA GUILHERME SCHELL</td>\n",
       "      <td>6340.0</td>\n",
       "      <td>None</td>\n",
       "      <td>CENTRO</td>\n",
       "      <td>92310-000</td>\n",
       "      <td>GASOLINA</td>\n",
       "      <td>01/07/2019</td>\n",
       "      <td>4.259</td>\n",
       "      <td>NaN</td>\n",
       "      <td>R$ / litro</td>\n",
       "      <td>BRANCA</td>\n",
       "      <td>2019-07-01</td>\n",
       "      <td>2019</td>\n",
       "      <td>2</td>\n",
       "      <td>gs://gcp-datapipeline-389020-raw/combustiveis/...</td>\n",
       "    </tr>\n",
       "    <tr>\n",
       "      <th>1</th>\n",
       "      <td>S</td>\n",
       "      <td>RS</td>\n",
       "      <td>CANOAS</td>\n",
       "      <td>METROPOLITANO COMERCIO DE COMBUSTIVEIS LTDA</td>\n",
       "      <td>88.587.589/0001-17</td>\n",
       "      <td>AVENIDA GUILHERME SCHELL</td>\n",
       "      <td>6340.0</td>\n",
       "      <td>None</td>\n",
       "      <td>CENTRO</td>\n",
       "      <td>92310-000</td>\n",
       "      <td>ETANOL</td>\n",
       "      <td>01/07/2019</td>\n",
       "      <td>4.099</td>\n",
       "      <td>NaN</td>\n",
       "      <td>R$ / litro</td>\n",
       "      <td>BRANCA</td>\n",
       "      <td>2019-07-01</td>\n",
       "      <td>2019</td>\n",
       "      <td>2</td>\n",
       "      <td>gs://gcp-datapipeline-389020-raw/combustiveis/...</td>\n",
       "    </tr>\n",
       "    <tr>\n",
       "      <th>2</th>\n",
       "      <td>S</td>\n",
       "      <td>RS</td>\n",
       "      <td>CANOAS</td>\n",
       "      <td>METROPOLITANO COMERCIO DE COMBUSTIVEIS LTDA</td>\n",
       "      <td>88.587.589/0001-17</td>\n",
       "      <td>AVENIDA GUILHERME SCHELL</td>\n",
       "      <td>6340.0</td>\n",
       "      <td>None</td>\n",
       "      <td>CENTRO</td>\n",
       "      <td>92310-000</td>\n",
       "      <td>GNV</td>\n",
       "      <td>01/07/2019</td>\n",
       "      <td>3.449</td>\n",
       "      <td>NaN</td>\n",
       "      <td>R$ / m³</td>\n",
       "      <td>BRANCA</td>\n",
       "      <td>2019-07-01</td>\n",
       "      <td>2019</td>\n",
       "      <td>2</td>\n",
       "      <td>gs://gcp-datapipeline-389020-raw/combustiveis/...</td>\n",
       "    </tr>\n",
       "    <tr>\n",
       "      <th>3</th>\n",
       "      <td>NE</td>\n",
       "      <td>BA</td>\n",
       "      <td>ITABUNA</td>\n",
       "      <td>LOPES LEMOS COMERCIO DE COMBUSTIVEIS LTDA</td>\n",
       "      <td>00.231.792/0001-05</td>\n",
       "      <td>RODOVIA BR 101</td>\n",
       "      <td>NaN</td>\n",
       "      <td>KM    503 5</td>\n",
       "      <td>MANOEL LEAO</td>\n",
       "      <td>45601-402</td>\n",
       "      <td>GASOLINA</td>\n",
       "      <td>01/07/2019</td>\n",
       "      <td>4.690</td>\n",
       "      <td>NaN</td>\n",
       "      <td>R$ / litro</td>\n",
       "      <td>BRANCA</td>\n",
       "      <td>2019-07-01</td>\n",
       "      <td>2019</td>\n",
       "      <td>2</td>\n",
       "      <td>gs://gcp-datapipeline-389020-raw/combustiveis/...</td>\n",
       "    </tr>\n",
       "    <tr>\n",
       "      <th>4</th>\n",
       "      <td>NE</td>\n",
       "      <td>BA</td>\n",
       "      <td>ITABUNA</td>\n",
       "      <td>LOPES LEMOS COMERCIO DE COMBUSTIVEIS LTDA</td>\n",
       "      <td>00.231.792/0001-05</td>\n",
       "      <td>RODOVIA BR 101</td>\n",
       "      <td>NaN</td>\n",
       "      <td>KM    503 5</td>\n",
       "      <td>MANOEL LEAO</td>\n",
       "      <td>45601-402</td>\n",
       "      <td>ETANOL</td>\n",
       "      <td>01/07/2019</td>\n",
       "      <td>3.490</td>\n",
       "      <td>NaN</td>\n",
       "      <td>R$ / litro</td>\n",
       "      <td>BRANCA</td>\n",
       "      <td>2019-07-01</td>\n",
       "      <td>2019</td>\n",
       "      <td>2</td>\n",
       "      <td>gs://gcp-datapipeline-389020-raw/combustiveis/...</td>\n",
       "    </tr>\n",
       "  </tbody>\n",
       "</table>\n",
       "</div>"
      ],
      "text/plain": [
       "  regiao_sigla estado_sigla municipio  \\\n",
       "0            S           RS    CANOAS   \n",
       "1            S           RS    CANOAS   \n",
       "2            S           RS    CANOAS   \n",
       "3           NE           BA   ITABUNA   \n",
       "4           NE           BA   ITABUNA   \n",
       "\n",
       "                                       revenda      cnpj_da_revenda  \\\n",
       "0  METROPOLITANO COMERCIO DE COMBUSTIVEIS LTDA   88.587.589/0001-17   \n",
       "1  METROPOLITANO COMERCIO DE COMBUSTIVEIS LTDA   88.587.589/0001-17   \n",
       "2  METROPOLITANO COMERCIO DE COMBUSTIVEIS LTDA   88.587.589/0001-17   \n",
       "3    LOPES LEMOS COMERCIO DE COMBUSTIVEIS LTDA   00.231.792/0001-05   \n",
       "4    LOPES LEMOS COMERCIO DE COMBUSTIVEIS LTDA   00.231.792/0001-05   \n",
       "\n",
       "                nome_da_rua  numero_rua  complemento       bairro        cep  \\\n",
       "0  AVENIDA GUILHERME SCHELL      6340.0         None       CENTRO  92310-000   \n",
       "1  AVENIDA GUILHERME SCHELL      6340.0         None       CENTRO  92310-000   \n",
       "2  AVENIDA GUILHERME SCHELL      6340.0         None       CENTRO  92310-000   \n",
       "3            RODOVIA BR 101         NaN  KM    503 5  MANOEL LEAO  45601-402   \n",
       "4            RODOVIA BR 101         NaN  KM    503 5  MANOEL LEAO  45601-402   \n",
       "\n",
       "    produto data_da_coleta  valor_de_venda  valor_de_compra unidade_de_medida  \\\n",
       "0  GASOLINA     01/07/2019           4.259              NaN        R$ / litro   \n",
       "1    ETANOL     01/07/2019           4.099              NaN        R$ / litro   \n",
       "2       GNV     01/07/2019           3.449              NaN           R$ / m³   \n",
       "3  GASOLINA     01/07/2019           4.690              NaN        R$ / litro   \n",
       "4    ETANOL     01/07/2019           3.490              NaN        R$ / litro   \n",
       "\n",
       "  bandeira        data   ano semestre  \\\n",
       "0   BRANCA  2019-07-01  2019        2   \n",
       "1   BRANCA  2019-07-01  2019        2   \n",
       "2   BRANCA  2019-07-01  2019        2   \n",
       "3   BRANCA  2019-07-01  2019        2   \n",
       "4   BRANCA  2019-07-01  2019        2   \n",
       "\n",
       "                                     input_file_name  \n",
       "0  gs://gcp-datapipeline-389020-raw/combustiveis/...  \n",
       "1  gs://gcp-datapipeline-389020-raw/combustiveis/...  \n",
       "2  gs://gcp-datapipeline-389020-raw/combustiveis/...  \n",
       "3  gs://gcp-datapipeline-389020-raw/combustiveis/...  \n",
       "4  gs://gcp-datapipeline-389020-raw/combustiveis/...  "
      ]
     },
     "execution_count": 12,
     "metadata": {},
     "output_type": "execute_result"
    }
   ],
   "source": [
    "data.limit(5).toPandas()"
   ]
  },
  {
   "cell_type": "code",
   "execution_count": 14,
   "id": "3e5ae2a3",
   "metadata": {
    "pycharm": {
     "name": "#%%\n"
    }
   },
   "outputs": [
    {
     "data": {
      "text/plain": [
       "[('regiao_sigla', 'string'),\n",
       " ('estado_sigla', 'string'),\n",
       " ('municipio', 'string'),\n",
       " ('revenda', 'string'),\n",
       " ('cnpj_da_revenda', 'string'),\n",
       " ('nome_da_rua', 'string'),\n",
       " ('numero_rua', 'int'),\n",
       " ('complemento', 'string'),\n",
       " ('bairro', 'string'),\n",
       " ('cep', 'string'),\n",
       " ('produto', 'string'),\n",
       " ('data_da_coleta', 'string'),\n",
       " ('valor_de_venda', 'float'),\n",
       " ('valor_de_compra', 'float'),\n",
       " ('unidade_de_medida', 'string'),\n",
       " ('bandeira', 'string'),\n",
       " ('data', 'date'),\n",
       " ('ano', 'string'),\n",
       " ('semestre', 'string'),\n",
       " ('input_file_name', 'string')]"
      ]
     },
     "execution_count": 14,
     "metadata": {},
     "output_type": "execute_result"
    }
   ],
   "source": [
    "data.dtypes"
   ]
  },
  {
   "cell_type": "code",
   "execution_count": 17,
   "id": "5d7a708c",
   "metadata": {
    "pycharm": {
     "name": "#%%\n"
    }
   },
   "outputs": [
    {
     "name": "stderr",
     "output_type": "stream",
     "text": [
      "                                                                                \r"
     ]
    },
    {
     "name": "stdout",
     "output_type": "stream",
     "text": [
      "+----------+-----+\n",
      "|data      |count|\n",
      "+----------+-----+\n",
      "|2019-07-30|3857 |\n",
      "|2019-08-05|5694 |\n",
      "|2019-08-15|2685 |\n",
      "|null      |1    |\n",
      "|2019-08-13|2212 |\n",
      "|2019-07-08|4888 |\n",
      "|2019-07-11|3788 |\n",
      "|2019-07-25|1995 |\n",
      "|2019-07-23|4190 |\n",
      "|2019-07-03|5808 |\n",
      "|2019-07-22|6157 |\n",
      "|2019-07-10|6078 |\n",
      "|2019-07-16|2889 |\n",
      "|2019-07-04|2463 |\n",
      "|2019-07-31|6485 |\n",
      "|2019-07-15|6034 |\n",
      "|2019-07-17|6976 |\n",
      "|2019-07-02|5331 |\n",
      "|2019-07-09|4316 |\n",
      "|2019-07-01|5420 |\n",
      "+----------+-----+\n",
      "only showing top 20 rows\n",
      "\n"
     ]
    }
   ],
   "source": [
    "data.groupBy(\"data\").count().show(truncate=False)"
   ]
  }
 ],
 "metadata": {
  "kernelspec": {
   "display_name": "Python 3",
   "language": "python",
   "name": "python3"
  },
  "language_info": {
   "codemirror_mode": {
    "name": "ipython",
    "version": 3
   },
   "file_extension": ".py",
   "mimetype": "text/x-python",
   "name": "python",
   "nbconvert_exporter": "python",
   "pygments_lexer": "ipython3",
   "version": "3.8.15"
  }
 },
 "nbformat": 4,
 "nbformat_minor": 5
}